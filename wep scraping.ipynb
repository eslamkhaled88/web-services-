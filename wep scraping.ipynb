{
 "cells": [
  {
   "cell_type": "code",
   "execution_count": 2,
   "id": "a6c98dd7",
   "metadata": {},
   "outputs": [],
   "source": [
    "import requests\n",
    "from bs4 import BeautifulSoup"
   ]
  },
  {
   "cell_type": "code",
   "execution_count": 3,
   "id": "00e3531d",
   "metadata": {},
   "outputs": [],
   "source": [
    "response = requests.get('https://jekso.github.io/scrapping-example/index.html')"
   ]
  },
  {
   "cell_type": "code",
   "execution_count": 4,
   "id": "b965e1ee",
   "metadata": {},
   "outputs": [],
   "source": [
    "soup = BeautifulSoup(response.text , 'html.parser')"
   ]
  },
  {
   "cell_type": "code",
   "execution_count": 5,
   "id": "363f1ed8",
   "metadata": {},
   "outputs": [
    {
     "data": {
      "text/plain": [
       "<!DOCTYPE html>\n",
       "\n",
       "<html>\n",
       "<head>\n",
       "<title>My First HTML Page</title>\n",
       "<style>\n",
       "\n",
       "            p {\n",
       "                color: green;\n",
       "                \n",
       "            }\n",
       "\n",
       "            h1 {\n",
       "                color:blue;\n",
       "                text-shadow: 2px 2px 5px red;\n",
       "            }\n",
       "\n",
       "\n",
       "            img {\n",
       "                width: 200px;\n",
       "                height: 200px;\n",
       "            }\n",
       "\n",
       "\n",
       "            select {\n",
       "                width: 300px;\n",
       "                height: 50px;\n",
       "                background-color: orange;\n",
       "            }\n",
       "\n",
       "            div#bigred {\n",
       "                width: 100%%;\n",
       "                height: 200px;\n",
       "                background-color: red;\n",
       "                margin: 20px;\n",
       "                color: white;\n",
       "            }\n",
       "\n",
       "\n",
       "            div#smallblue {\n",
       "                width: 100%%;\n",
       "                height: 100px;\n",
       "                background-color: blue;\n",
       "                margin: 20px;\n",
       "                color: yellow;\n",
       "            }\n",
       "\n",
       "            li.redul {\n",
       "                color: red;\n",
       "            }\n",
       "\n",
       "            li.blueol {\n",
       "                color:blue;\n",
       "            }\n",
       "\n",
       "            .h2_orange {\n",
       "                color: orange;\n",
       "            }\n",
       "\n",
       "            .jupyter_img {\n",
       "                width: 200px;\n",
       "                height: 200px;\n",
       "                border: solid green 3px;\n",
       "            }\n",
       "\n",
       "            .bg-yellow {\n",
       "                background-color: yellow;\n",
       "            }\n",
       "\n",
       "        </style>\n",
       "</head>\n",
       "<body>\n",
       "<p>Iam a paragrapph</p>\n",
       "<br/><hr/><br/>\n",
       "<h1>My First H1 Header</h1>\n",
       "<h1>My Second H1 Header</h1>\n",
       "<h2 class=\"h2_orange bg-yellow\">My First H2 Header</h2>\n",
       "<h2 class=\"h2_orange\">My Second H2 Header</h2>\n",
       "<h2>My 3rd H2 Header</h2>\n",
       "<br/><hr/><br/>\n",
       "<ul>\n",
       "<li class=\"redul\"> Milk </li>\n",
       "<li class=\"redul\"> Oranges </li>\n",
       "</ul>\n",
       "<br/><hr/><br/>\n",
       "<ol>\n",
       "<li class=\"blueol\"> Milk </li>\n",
       "<li class=\"blueol\"> Oranges </li>\n",
       "</ol>\n",
       "<br/><hr/><br/>\n",
       "<img class=\"jupyter_img\" src=\"my_img.png\"/>\n",
       "<br/><hr/><br/>\n",
       "<a href=\"http://www.google.com\">Go To Google</a>\n",
       "<br/><hr/><br/>\n",
       "<form>\n",
       "            Username: <input class=\"bg-yellow\" type=\"text\"/>\n",
       "<br/><br/>\n",
       "            Passowrd: <input type=\"password\"/>\n",
       "<br/><br/>\n",
       "<select>\n",
       "<option value=\"volvo\">Volvo</option>\n",
       "<option value=\"saab\">Saab</option>\n",
       "<option value=\"fiat\">Fiat</option>\n",
       "<option value=\"audi\">Audi</option>\n",
       "</select>\n",
       "<br/><br/>\n",
       "<input type=\"checkbox\"/>\n",
       "            I agree for the terms\n",
       "            <br/><br/>\n",
       "<input type=\"submit\" value=\"Search\"/>\n",
       "</form>\n",
       "<br/><hr/><br/>\n",
       "<table>\n",
       "<tr>\n",
       "<th>House Size</th>\n",
       "<th>Num of Rooms</th>\n",
       "<th class=\"bg-yellow\">Has Garden</th>\n",
       "<th>Price</th>\n",
       "</tr>\n",
       "<tr>\n",
       "<td>120</td>\n",
       "<td>3</td>\n",
       "<td>yes</td>\n",
       "<td>500000</td>\n",
       "</tr>\n",
       "<tr>\n",
       "<td>140</td>\n",
       "<td>4</td>\n",
       "<td class=\"bg-yellow\">no</td>\n",
       "<td>750000</td>\n",
       "</tr>\n",
       "<tr>\n",
       "<td>80</td>\n",
       "<td>1</td>\n",
       "<td>no</td>\n",
       "<td>300000</td>\n",
       "</tr>\n",
       "</table>\n",
       "<br/><hr/><br/>\n",
       "<iframe height=\"345\" src=\"https://www.youtube.com/embed/tgbNymZ7vqY\" width=\"420\"></iframe>\n",
       "<br/><hr/><br/>\n",
       "<div id=\"bigred\">\n",
       "            Hello world\n",
       "        </div>\n",
       "<br/><hr/><br/>\n",
       "<div id=\"smallblue\">\n",
       "            Hello python\n",
       "            <p>Iam a paragrapph</p>\n",
       "</div>\n",
       "</body>\n",
       "</html>"
      ]
     },
     "execution_count": 5,
     "metadata": {},
     "output_type": "execute_result"
    }
   ],
   "source": [
    "soup"
   ]
  },
  {
   "cell_type": "code",
   "execution_count": 6,
   "id": "ebd905cf",
   "metadata": {},
   "outputs": [],
   "source": [
    "a =soup.find('a')"
   ]
  },
  {
   "cell_type": "code",
   "execution_count": 7,
   "id": "d48f9eeb",
   "metadata": {},
   "outputs": [
    {
     "data": {
      "text/plain": [
       "'Go To Google'"
      ]
     },
     "execution_count": 7,
     "metadata": {},
     "output_type": "execute_result"
    }
   ],
   "source": [
    "a.text"
   ]
  },
  {
   "cell_type": "code",
   "execution_count": 8,
   "id": "4289718b",
   "metadata": {},
   "outputs": [
    {
     "data": {
      "text/plain": [
       "{'href': 'http://www.google.com'}"
      ]
     },
     "execution_count": 8,
     "metadata": {},
     "output_type": "execute_result"
    }
   ],
   "source": [
    "a.attrs"
   ]
  },
  {
   "cell_type": "code",
   "execution_count": 18,
   "id": "9f65a9ad",
   "metadata": {},
   "outputs": [],
   "source": [
    "video =soup.find('iframe')"
   ]
  },
  {
   "cell_type": "code",
   "execution_count": 19,
   "id": "ed9e82a7",
   "metadata": {},
   "outputs": [
    {
     "data": {
      "text/plain": [
       "<iframe height=\"345\" src=\"https://www.youtube.com/embed/tgbNymZ7vqY\" width=\"420\"></iframe>"
      ]
     },
     "execution_count": 19,
     "metadata": {},
     "output_type": "execute_result"
    }
   ],
   "source": [
    "video"
   ]
  },
  {
   "cell_type": "code",
   "execution_count": 20,
   "id": "8f7eafcc",
   "metadata": {},
   "outputs": [
    {
     "data": {
      "text/plain": [
       "{'width': '420',\n",
       " 'height': '345',\n",
       " 'src': 'https://www.youtube.com/embed/tgbNymZ7vqY'}"
      ]
     },
     "execution_count": 20,
     "metadata": {},
     "output_type": "execute_result"
    }
   ],
   "source": [
    "video.attrs"
   ]
  },
  {
   "cell_type": "code",
   "execution_count": 22,
   "id": "369806a4",
   "metadata": {},
   "outputs": [],
   "source": [
    "video = video.attrs"
   ]
  },
  {
   "cell_type": "code",
   "execution_count": 40,
   "id": "383d6d3c",
   "metadata": {},
   "outputs": [],
   "source": [
    "h= video['width']\n",
    "w =video['height']"
   ]
  },
  {
   "cell_type": "code",
   "execution_count": 41,
   "id": "acda34df",
   "metadata": {},
   "outputs": [
    {
     "data": {
      "text/plain": [
       "345"
      ]
     },
     "execution_count": 41,
     "metadata": {},
     "output_type": "execute_result"
    }
   ],
   "source": [
    "width = int(w)\n",
    "width"
   ]
  },
  {
   "cell_type": "code",
   "execution_count": 42,
   "id": "8537e931",
   "metadata": {},
   "outputs": [
    {
     "data": {
      "text/plain": [
       "420"
      ]
     },
     "execution_count": 42,
     "metadata": {},
     "output_type": "execute_result"
    }
   ],
   "source": [
    "height = int(h)\n",
    "height"
   ]
  },
  {
   "cell_type": "code",
   "execution_count": 44,
   "id": "0323fc7a",
   "metadata": {},
   "outputs": [
    {
     "data": {
      "text/plain": [
       "144900"
      ]
     },
     "execution_count": 44,
     "metadata": {},
     "output_type": "execute_result"
    }
   ],
   "source": [
    "area = (height*width)\n",
    "area"
   ]
  },
  {
   "cell_type": "code",
   "execution_count": 45,
   "id": "782affcf",
   "metadata": {},
   "outputs": [
    {
     "data": {
      "text/plain": [
       "<select>\n",
       "<option value=\"volvo\">Volvo</option>\n",
       "<option value=\"saab\">Saab</option>\n",
       "<option value=\"fiat\">Fiat</option>\n",
       "<option value=\"audi\">Audi</option>\n",
       "</select>"
      ]
     },
     "execution_count": 45,
     "metadata": {},
     "output_type": "execute_result"
    }
   ],
   "source": [
    "soup.find('select')"
   ]
  },
  {
   "cell_type": "code",
   "execution_count": 46,
   "id": "c6634d5f",
   "metadata": {},
   "outputs": [],
   "source": [
    "response = requests.get('http://books.toscrape.com/catalogue/category/books/mystery_3/index.html')"
   ]
  },
  {
   "cell_type": "code",
   "execution_count": null,
   "id": "ee5594b1",
   "metadata": {},
   "outputs": [],
   "source": []
  }
 ],
 "metadata": {
  "kernelspec": {
   "display_name": "Python 3 (ipykernel)",
   "language": "python",
   "name": "python3"
  },
  "language_info": {
   "codemirror_mode": {
    "name": "ipython",
    "version": 3
   },
   "file_extension": ".py",
   "mimetype": "text/x-python",
   "name": "python",
   "nbconvert_exporter": "python",
   "pygments_lexer": "ipython3",
   "version": "3.9.7"
  }
 },
 "nbformat": 4,
 "nbformat_minor": 5
}
