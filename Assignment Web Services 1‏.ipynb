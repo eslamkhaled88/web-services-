{
 "cells": [
  {
   "cell_type": "code",
   "execution_count": 1,
   "id": "bd2e2029",
   "metadata": {},
   "outputs": [],
   "source": [
    "import requests \n",
    "import json\n"
   ]
  },
  {
   "cell_type": "code",
   "execution_count": 2,
   "id": "f8c8ea7f",
   "metadata": {},
   "outputs": [],
   "source": [
    "response = requests.get('https://api.frankfurter.app/latest?amount=1&from=USD&to=EUR')"
   ]
  },
  {
   "cell_type": "code",
   "execution_count": 3,
   "id": "91f6464b",
   "metadata": {},
   "outputs": [],
   "source": [
    "json_response = response.text"
   ]
  },
  {
   "cell_type": "code",
   "execution_count": 4,
   "id": "4a55eaa1",
   "metadata": {},
   "outputs": [
    {
     "data": {
      "text/plain": [
       "'{\"amount\":1.0,\"base\":\"USD\",\"date\":\"2022-03-24\",\"rates\":{\"EUR\":0.91091}}'"
      ]
     },
     "execution_count": 4,
     "metadata": {},
     "output_type": "execute_result"
    }
   ],
   "source": [
    "json_response"
   ]
  },
  {
   "cell_type": "code",
   "execution_count": 5,
   "id": "768494b6",
   "metadata": {},
   "outputs": [],
   "source": [
    "data = json.loads(json_response)"
   ]
  },
  {
   "cell_type": "code",
   "execution_count": 6,
   "id": "ea2e290e",
   "metadata": {},
   "outputs": [
    {
     "data": {
      "text/plain": [
       "{'amount': 1.0, 'base': 'USD', 'date': '2022-03-24', 'rates': {'EUR': 0.91091}}"
      ]
     },
     "execution_count": 6,
     "metadata": {},
     "output_type": "execute_result"
    }
   ],
   "source": [
    "data"
   ]
  },
  {
   "cell_type": "code",
   "execution_count": 7,
   "id": "0a1b6733",
   "metadata": {},
   "outputs": [
    {
     "data": {
      "text/plain": [
       "dict_keys(['amount', 'base', 'date', 'rates'])"
      ]
     },
     "execution_count": 7,
     "metadata": {},
     "output_type": "execute_result"
    }
   ],
   "source": [
    "data.keys()"
   ]
  },
  {
   "cell_type": "code",
   "execution_count": 8,
   "id": "0cb26937",
   "metadata": {},
   "outputs": [
    {
     "data": {
      "text/plain": [
       "1.0"
      ]
     },
     "execution_count": 8,
     "metadata": {},
     "output_type": "execute_result"
    }
   ],
   "source": [
    "data['amount']"
   ]
  },
  {
   "cell_type": "code",
   "execution_count": 9,
   "id": "a751a693",
   "metadata": {},
   "outputs": [
    {
     "data": {
      "text/plain": [
       "'USD'"
      ]
     },
     "execution_count": 9,
     "metadata": {},
     "output_type": "execute_result"
    }
   ],
   "source": [
    "data['base']"
   ]
  },
  {
   "cell_type": "code",
   "execution_count": 10,
   "id": "e90761ee",
   "metadata": {},
   "outputs": [
    {
     "name": "stdout",
     "output_type": "stream",
     "text": [
      "enter your amount:2\n",
      " 2 USD = 1.82182 EUR\n"
     ]
    }
   ],
   "source": [
    "dollars_count = int(input('enter your amount:'))\n",
    "exchange_rates = data['rates']['EUR']\n",
    "total = exchange_rates * dollars_count\n",
    "print (f\" {dollars_count} USD = {total} EUR\")"
   ]
  },
  {
   "cell_type": "code",
   "execution_count": 13,
   "id": "926f66d7",
   "metadata": {},
   "outputs": [
    {
     "data": {
      "text/plain": [
       "0.91091"
      ]
     },
     "execution_count": 13,
     "metadata": {},
     "output_type": "execute_result"
    }
   ],
   "source": [
    "data['rates']['EUR']"
   ]
  },
  {
   "cell_type": "code",
   "execution_count": 12,
   "id": "a59d66b0",
   "metadata": {},
   "outputs": [
    {
     "ename": "KeyError",
     "evalue": "'EUR'",
     "output_type": "error",
     "traceback": [
      "\u001b[1;31m---------------------------------------------------------------------------\u001b[0m",
      "\u001b[1;31mKeyError\u001b[0m                                  Traceback (most recent call last)",
      "\u001b[1;32m~\\AppData\\Local\\Temp/ipykernel_2612/3974238299.py\u001b[0m in \u001b[0;36m<module>\u001b[1;34m\u001b[0m\n\u001b[1;32m----> 1\u001b[1;33m \u001b[0mdata\u001b[0m \u001b[1;33m[\u001b[0m\u001b[1;34m'EUR'\u001b[0m\u001b[1;33m]\u001b[0m\u001b[1;33m\u001b[0m\u001b[1;33m\u001b[0m\u001b[0m\n\u001b[0m",
      "\u001b[1;31mKeyError\u001b[0m: 'EUR'"
     ]
    }
   ],
   "source": [
    "data ['EUR']"
   ]
  },
  {
   "cell_type": "code",
   "execution_count": null,
   "id": "4ef96483",
   "metadata": {},
   "outputs": [],
   "source": []
  }
 ],
 "metadata": {
  "kernelspec": {
   "display_name": "Python 3 (ipykernel)",
   "language": "python",
   "name": "python3"
  },
  "language_info": {
   "codemirror_mode": {
    "name": "ipython",
    "version": 3
   },
   "file_extension": ".py",
   "mimetype": "text/x-python",
   "name": "python",
   "nbconvert_exporter": "python",
   "pygments_lexer": "ipython3",
   "version": "3.9.7"
  }
 },
 "nbformat": 4,
 "nbformat_minor": 5
}
