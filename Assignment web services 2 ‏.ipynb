{
 "cells": [
  {
   "cell_type": "markdown",
   "id": "9374ef27",
   "metadata": {},
   "source": [
    "### Use this web service https://www.metaweather.com/api/location/1521894/one time for 3 different days in this week and make a program that get the weather temperature, humidity, visibility, air pressure, wind speed & datetime and save each day data in a CSV & Excel fil"
   ]
  },
  {
   "cell_type": "code",
   "execution_count": 1,
   "id": "86bb5ec3",
   "metadata": {},
   "outputs": [],
   "source": [
    "import requests\n",
    "import json \n",
    "import csv"
   ]
  },
  {
   "cell_type": "code",
   "execution_count": 2,
   "id": "8fd367ed",
   "metadata": {},
   "outputs": [],
   "source": [
    "response = requests.get('https://www.metaweather.com/api/location/1521894/')"
   ]
  },
  {
   "cell_type": "code",
   "execution_count": 3,
   "id": "a6900618",
   "metadata": {},
   "outputs": [],
   "source": [
    "json_response = response.text"
   ]
  },
  {
   "cell_type": "code",
   "execution_count": 4,
   "id": "fedb1465",
   "metadata": {},
   "outputs": [],
   "source": [
    "data = json.loads(json_response)"
   ]
  },
  {
   "cell_type": "code",
   "execution_count": 5,
   "id": "b6ad7e2a",
   "metadata": {},
   "outputs": [
    {
     "data": {
      "text/plain": [
       "{'consolidated_weather': [{'id': 6258693126488064,\n",
       "   'weather_state_name': 'Light Cloud',\n",
       "   'weather_state_abbr': 'lc',\n",
       "   'wind_direction_compass': 'NNE',\n",
       "   'created': '2022-03-15T22:34:26.054467Z',\n",
       "   'applicable_date': '2022-03-16',\n",
       "   'min_temp': 7.390000000000001,\n",
       "   'max_temp': 19.965,\n",
       "   'the_temp': 17.405,\n",
       "   'wind_speed': 5.551043663063708,\n",
       "   'wind_direction': 11.792736438447006,\n",
       "   'air_pressure': 1026.0,\n",
       "   'humidity': 37,\n",
       "   'visibility': 11.596339875129246,\n",
       "   'predictability': 70},\n",
       "  {'id': 6324988194848768,\n",
       "   'weather_state_name': 'Clear',\n",
       "   'weather_state_abbr': 'c',\n",
       "   'wind_direction_compass': 'N',\n",
       "   'created': '2022-03-15T22:34:29.335297Z',\n",
       "   'applicable_date': '2022-03-17',\n",
       "   'min_temp': 7.694999999999999,\n",
       "   'max_temp': 21.875,\n",
       "   'the_temp': 18.14,\n",
       "   'wind_speed': 4.956120018794241,\n",
       "   'wind_direction': 3.3776099634962025,\n",
       "   'air_pressure': 1024.5,\n",
       "   'humidity': 41,\n",
       "   'visibility': 13.059358347252047,\n",
       "   'predictability': 68},\n",
       "  {'id': 4748544775815168,\n",
       "   'weather_state_name': 'Clear',\n",
       "   'weather_state_abbr': 'c',\n",
       "   'wind_direction_compass': 'N',\n",
       "   'created': '2022-03-15T22:34:32.073416Z',\n",
       "   'applicable_date': '2022-03-18',\n",
       "   'min_temp': 9.09,\n",
       "   'max_temp': 24.07,\n",
       "   'the_temp': 19.354999999999997,\n",
       "   'wind_speed': 6.211159258935814,\n",
       "   'wind_direction': 353.553039150448,\n",
       "   'air_pressure': 1022.0,\n",
       "   'humidity': 49,\n",
       "   'visibility': 12.740905611230414,\n",
       "   'predictability': 68},\n",
       "  {'id': 4915739497594880,\n",
       "   'weather_state_name': 'Clear',\n",
       "   'weather_state_abbr': 'c',\n",
       "   'wind_direction_compass': 'N',\n",
       "   'created': '2022-03-15T22:34:35.155675Z',\n",
       "   'applicable_date': '2022-03-19',\n",
       "   'min_temp': 9.72,\n",
       "   'max_temp': 23.72,\n",
       "   'the_temp': 20.055,\n",
       "   'wind_speed': 7.9486308711975395,\n",
       "   'wind_direction': 356.24489043392254,\n",
       "   'air_pressure': 1019.5,\n",
       "   'humidity': 46,\n",
       "   'visibility': 13.586281118269307,\n",
       "   'predictability': 68},\n",
       "  {'id': 4917613311295488,\n",
       "   'weather_state_name': 'Light Cloud',\n",
       "   'weather_state_abbr': 'lc',\n",
       "   'wind_direction_compass': 'NNE',\n",
       "   'created': '2022-03-15T22:34:38.134845Z',\n",
       "   'applicable_date': '2022-03-20',\n",
       "   'min_temp': 10.365,\n",
       "   'max_temp': 20.455,\n",
       "   'the_temp': 17.49,\n",
       "   'wind_speed': 7.3378658633579885,\n",
       "   'wind_direction': 32.00000000000001,\n",
       "   'air_pressure': 1018.0,\n",
       "   'humidity': 46,\n",
       "   'visibility': 9.999726596675416,\n",
       "   'predictability': 70},\n",
       "  {'id': 6160281668419584,\n",
       "   'weather_state_name': 'Heavy Cloud',\n",
       "   'weather_state_abbr': 'hc',\n",
       "   'wind_direction_compass': 'NNE',\n",
       "   'created': '2022-03-15T22:34:41.063113Z',\n",
       "   'applicable_date': '2022-03-21',\n",
       "   'min_temp': 8.57,\n",
       "   'max_temp': 18.945,\n",
       "   'the_temp': 16.19,\n",
       "   'wind_speed': 7.123307484291736,\n",
       "   'wind_direction': 26.0,\n",
       "   'air_pressure': 1015.0,\n",
       "   'humidity': 50,\n",
       "   'visibility': 9.999726596675416,\n",
       "   'predictability': 71}],\n",
       " 'time': '2022-03-16T00:40:54.171903+02:00',\n",
       " 'sun_rise': '2022-03-16T06:03:58.509868+02:00',\n",
       " 'sun_set': '2022-03-16T18:03:48.489891+02:00',\n",
       " 'timezone_name': 'LMT',\n",
       " 'parent': {'title': 'Egypt',\n",
       "  'location_type': 'Country',\n",
       "  'woeid': 23424802,\n",
       "  'latt_long': '26.837090,30.796391'},\n",
       " 'sources': [{'title': 'BBC',\n",
       "   'slug': 'bbc',\n",
       "   'url': 'http://www.bbc.co.uk/weather/',\n",
       "   'crawl_rate': 360},\n",
       "  {'title': 'Forecast.io',\n",
       "   'slug': 'forecast-io',\n",
       "   'url': 'http://forecast.io/',\n",
       "   'crawl_rate': 480},\n",
       "  {'title': 'HAMweather',\n",
       "   'slug': 'hamweather',\n",
       "   'url': 'http://www.hamweather.com/',\n",
       "   'crawl_rate': 360},\n",
       "  {'title': 'Met Office',\n",
       "   'slug': 'met-office',\n",
       "   'url': 'http://www.metoffice.gov.uk/',\n",
       "   'crawl_rate': 180},\n",
       "  {'title': 'OpenWeatherMap',\n",
       "   'slug': 'openweathermap',\n",
       "   'url': 'http://openweathermap.org/',\n",
       "   'crawl_rate': 360},\n",
       "  {'title': 'Weather Underground',\n",
       "   'slug': 'wunderground',\n",
       "   'url': 'https://www.wunderground.com/?apiref=fc30dc3cd224e19b',\n",
       "   'crawl_rate': 720},\n",
       "  {'title': 'World Weather Online',\n",
       "   'slug': 'world-weather-online',\n",
       "   'url': 'http://www.worldweatheronline.com/',\n",
       "   'crawl_rate': 360}],\n",
       " 'title': 'Cairo',\n",
       " 'location_type': 'City',\n",
       " 'woeid': 1521894,\n",
       " 'latt_long': '30.049950,31.248600',\n",
       " 'timezone': 'Africa/Cairo'}"
      ]
     },
     "execution_count": 5,
     "metadata": {},
     "output_type": "execute_result"
    }
   ],
   "source": [
    "data"
   ]
  },
  {
   "cell_type": "code",
   "execution_count": 6,
   "id": "b14f5afb",
   "metadata": {},
   "outputs": [
    {
     "data": {
      "text/plain": [
       "dict_keys(['consolidated_weather', 'time', 'sun_rise', 'sun_set', 'timezone_name', 'parent', 'sources', 'title', 'location_type', 'woeid', 'latt_long', 'timezone'])"
      ]
     },
     "execution_count": 6,
     "metadata": {},
     "output_type": "execute_result"
    }
   ],
   "source": [
    "data.keys()"
   ]
  },
  {
   "cell_type": "code",
   "execution_count": 7,
   "id": "3e6cef9f",
   "metadata": {},
   "outputs": [
    {
     "data": {
      "text/plain": [
       "[{'id': 6258693126488064,\n",
       "  'weather_state_name': 'Light Cloud',\n",
       "  'weather_state_abbr': 'lc',\n",
       "  'wind_direction_compass': 'NNE',\n",
       "  'created': '2022-03-15T22:34:26.054467Z',\n",
       "  'applicable_date': '2022-03-16',\n",
       "  'min_temp': 7.390000000000001,\n",
       "  'max_temp': 19.965,\n",
       "  'the_temp': 17.405,\n",
       "  'wind_speed': 5.551043663063708,\n",
       "  'wind_direction': 11.792736438447006,\n",
       "  'air_pressure': 1026.0,\n",
       "  'humidity': 37,\n",
       "  'visibility': 11.596339875129246,\n",
       "  'predictability': 70},\n",
       " {'id': 6324988194848768,\n",
       "  'weather_state_name': 'Clear',\n",
       "  'weather_state_abbr': 'c',\n",
       "  'wind_direction_compass': 'N',\n",
       "  'created': '2022-03-15T22:34:29.335297Z',\n",
       "  'applicable_date': '2022-03-17',\n",
       "  'min_temp': 7.694999999999999,\n",
       "  'max_temp': 21.875,\n",
       "  'the_temp': 18.14,\n",
       "  'wind_speed': 4.956120018794241,\n",
       "  'wind_direction': 3.3776099634962025,\n",
       "  'air_pressure': 1024.5,\n",
       "  'humidity': 41,\n",
       "  'visibility': 13.059358347252047,\n",
       "  'predictability': 68},\n",
       " {'id': 4748544775815168,\n",
       "  'weather_state_name': 'Clear',\n",
       "  'weather_state_abbr': 'c',\n",
       "  'wind_direction_compass': 'N',\n",
       "  'created': '2022-03-15T22:34:32.073416Z',\n",
       "  'applicable_date': '2022-03-18',\n",
       "  'min_temp': 9.09,\n",
       "  'max_temp': 24.07,\n",
       "  'the_temp': 19.354999999999997,\n",
       "  'wind_speed': 6.211159258935814,\n",
       "  'wind_direction': 353.553039150448,\n",
       "  'air_pressure': 1022.0,\n",
       "  'humidity': 49,\n",
       "  'visibility': 12.740905611230414,\n",
       "  'predictability': 68},\n",
       " {'id': 4915739497594880,\n",
       "  'weather_state_name': 'Clear',\n",
       "  'weather_state_abbr': 'c',\n",
       "  'wind_direction_compass': 'N',\n",
       "  'created': '2022-03-15T22:34:35.155675Z',\n",
       "  'applicable_date': '2022-03-19',\n",
       "  'min_temp': 9.72,\n",
       "  'max_temp': 23.72,\n",
       "  'the_temp': 20.055,\n",
       "  'wind_speed': 7.9486308711975395,\n",
       "  'wind_direction': 356.24489043392254,\n",
       "  'air_pressure': 1019.5,\n",
       "  'humidity': 46,\n",
       "  'visibility': 13.586281118269307,\n",
       "  'predictability': 68},\n",
       " {'id': 4917613311295488,\n",
       "  'weather_state_name': 'Light Cloud',\n",
       "  'weather_state_abbr': 'lc',\n",
       "  'wind_direction_compass': 'NNE',\n",
       "  'created': '2022-03-15T22:34:38.134845Z',\n",
       "  'applicable_date': '2022-03-20',\n",
       "  'min_temp': 10.365,\n",
       "  'max_temp': 20.455,\n",
       "  'the_temp': 17.49,\n",
       "  'wind_speed': 7.3378658633579885,\n",
       "  'wind_direction': 32.00000000000001,\n",
       "  'air_pressure': 1018.0,\n",
       "  'humidity': 46,\n",
       "  'visibility': 9.999726596675416,\n",
       "  'predictability': 70},\n",
       " {'id': 6160281668419584,\n",
       "  'weather_state_name': 'Heavy Cloud',\n",
       "  'weather_state_abbr': 'hc',\n",
       "  'wind_direction_compass': 'NNE',\n",
       "  'created': '2022-03-15T22:34:41.063113Z',\n",
       "  'applicable_date': '2022-03-21',\n",
       "  'min_temp': 8.57,\n",
       "  'max_temp': 18.945,\n",
       "  'the_temp': 16.19,\n",
       "  'wind_speed': 7.123307484291736,\n",
       "  'wind_direction': 26.0,\n",
       "  'air_pressure': 1015.0,\n",
       "  'humidity': 50,\n",
       "  'visibility': 9.999726596675416,\n",
       "  'predictability': 71}]"
      ]
     },
     "execution_count": 7,
     "metadata": {},
     "output_type": "execute_result"
    }
   ],
   "source": [
    "data['consolidated_weather']"
   ]
  },
  {
   "cell_type": "code",
   "execution_count": 8,
   "id": "949cb319",
   "metadata": {},
   "outputs": [
    {
     "name": "stdout",
     "output_type": "stream",
     "text": [
      "temperature: 17.405 humidity: 37 visibility: 11.596339875129246 wind speed: 5.551043663063708 date time: 2022-03-15T22:34:26.054467Z\n",
      "______________________________________________________________________________________________________________\n",
      "temperature: 18.14 humidity: 41 visibility: 13.059358347252047 wind speed: 4.956120018794241 date time: 2022-03-15T22:34:29.335297Z\n",
      "______________________________________________________________________________________________________________\n",
      "temperature: 19.354999999999997 humidity: 49 visibility: 12.740905611230414 wind speed: 6.211159258935814 date time: 2022-03-15T22:34:32.073416Z\n",
      "______________________________________________________________________________________________________________\n",
      "temperature: 20.055 humidity: 46 visibility: 13.586281118269307 wind speed: 7.9486308711975395 date time: 2022-03-15T22:34:35.155675Z\n",
      "______________________________________________________________________________________________________________\n",
      "temperature: 17.49 humidity: 46 visibility: 9.999726596675416 wind speed: 7.3378658633579885 date time: 2022-03-15T22:34:38.134845Z\n",
      "______________________________________________________________________________________________________________\n",
      "temperature: 16.19 humidity: 50 visibility: 9.999726596675416 wind speed: 7.123307484291736 date time: 2022-03-15T22:34:41.063113Z\n",
      "______________________________________________________________________________________________________________\n"
     ]
    }
   ],
   "source": [
    "for item in data['consolidated_weather']:\n",
    "    print (f\"temperature: {item['the_temp']} humidity: {item['humidity']} visibility: {item['visibility']} wind speed: {item['wind_speed']} date time: {item['created']}\" )\n",
    "    print ('_'*110)"
   ]
  },
  {
   "cell_type": "code",
   "execution_count": 9,
   "id": "476a0992",
   "metadata": {},
   "outputs": [],
   "source": [
    "fieldnames = ['temperature' , 'humidity' , 'visibility', 'wind speed','date time'] "
   ]
  },
  {
   "cell_type": "code",
   "execution_count": 10,
   "id": "6a00ad5a",
   "metadata": {},
   "outputs": [],
   "source": [
    "with open ('temp.csv' , 'a' , newline = ''  ) as f :\n",
    "    writer = csv.DictWriter(f, fieldnames=fieldnames)\n",
    "    writer.writeheader()\n",
    "    for item in data['consolidated_weather']:\n",
    "        writer.writerow({'temperature': item['the_temp'], 'humidity': item['humidity'], 'visibility': item['visibility'], 'wind speed': item['wind_speed'], 'date time': item['applicable_date'] })\n",
    "    "
   ]
  },
  {
   "cell_type": "code",
   "execution_count": 11,
   "id": "cadfedff",
   "metadata": {},
   "outputs": [],
   "source": [
    "import os"
   ]
  },
  {
   "cell_type": "code",
   "execution_count": 12,
   "id": "c4d728a6",
   "metadata": {},
   "outputs": [
    {
     "data": {
      "text/plain": [
       "'C:\\\\Users\\\\eslam'"
      ]
     },
     "execution_count": 12,
     "metadata": {},
     "output_type": "execute_result"
    }
   ],
   "source": [
    "os.getcwd()"
   ]
  },
  {
   "cell_type": "code",
   "execution_count": null,
   "id": "0c8e8c45",
   "metadata": {},
   "outputs": [],
   "source": []
  },
  {
   "cell_type": "code",
   "execution_count": null,
   "id": "6070195a",
   "metadata": {},
   "outputs": [],
   "source": []
  }
 ],
 "metadata": {
  "kernelspec": {
   "display_name": "Python 3 (ipykernel)",
   "language": "python",
   "name": "python3"
  },
  "language_info": {
   "codemirror_mode": {
    "name": "ipython",
    "version": 3
   },
   "file_extension": ".py",
   "mimetype": "text/x-python",
   "name": "python",
   "nbconvert_exporter": "python",
   "pygments_lexer": "ipython3",
   "version": "3.9.7"
  }
 },
 "nbformat": 4,
 "nbformat_minor": 5
}
