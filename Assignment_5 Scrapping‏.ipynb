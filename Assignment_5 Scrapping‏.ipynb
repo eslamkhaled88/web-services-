{
 "cells": [
  {
   "cell_type": "code",
   "execution_count": 1,
   "id": "f33d6aa7",
   "metadata": {},
   "outputs": [],
   "source": [
    "import requests\n",
    "import pandas as pd\n",
    "import csv\n",
    "from bs4 import BeautifulSoup"
   ]
  },
  {
   "cell_type": "code",
   "execution_count": 2,
   "id": "d841331e",
   "metadata": {},
   "outputs": [],
   "source": [
    "response = requests.request('GET', 'https://eg.freemeteo.com/weather/cairo/current-weather/location/?gid=360630&language=english&country=egypt')"
   ]
  },
  {
   "cell_type": "code",
   "execution_count": 3,
   "id": "24af0b6c",
   "metadata": {},
   "outputs": [],
   "source": [
    "soup = BeautifulSoup(response.content, 'html.parser')"
   ]
  },
  {
   "cell_type": "code",
   "execution_count": 4,
   "id": "b204722e",
   "metadata": {},
   "outputs": [],
   "source": [
    "temp = soup.find('div', attrs={'class':'temp'}).get_text()"
   ]
  },
  {
   "cell_type": "code",
   "execution_count": 5,
   "id": "0349a1d9",
   "metadata": {},
   "outputs": [
    {
     "data": {
      "text/plain": [
       "'12°C'"
      ]
     },
     "execution_count": 5,
     "metadata": {},
     "output_type": "execute_result"
    }
   ],
   "source": [
    "temp"
   ]
  },
  {
   "cell_type": "code",
   "execution_count": 6,
   "id": "5c3e57f0",
   "metadata": {},
   "outputs": [],
   "source": [
    "stats = soup.find('div', attrs={'class':'stats'}).get_text().split()"
   ]
  },
  {
   "cell_type": "code",
   "execution_count": 7,
   "id": "97c91a06",
   "metadata": {},
   "outputs": [
    {
     "data": {
      "text/plain": [
       "['Rel.',\n",
       " 'humidity:',\n",
       " '63%',\n",
       " '|',\n",
       " 'Visibility:',\n",
       " '>',\n",
       " '10000m',\n",
       " '|',\n",
       " 'Pressure:',\n",
       " '1019.0mb']"
      ]
     },
     "execution_count": 7,
     "metadata": {},
     "output_type": "execute_result"
    }
   ],
   "source": [
    "stats"
   ]
  },
  {
   "cell_type": "code",
   "execution_count": 8,
   "id": "4aa2a494",
   "metadata": {},
   "outputs": [
    {
     "data": {
      "text/plain": [
       "'12'"
      ]
     },
     "execution_count": 8,
     "metadata": {},
     "output_type": "execute_result"
    }
   ],
   "source": [
    "temp[:-2]"
   ]
  },
  {
   "cell_type": "code",
   "execution_count": 9,
   "id": "3e70f2ce",
   "metadata": {},
   "outputs": [
    {
     "data": {
      "text/plain": [
       "('63%', '10000m', '1019.0mb')"
      ]
     },
     "execution_count": 9,
     "metadata": {},
     "output_type": "execute_result"
    }
   ],
   "source": [
    "stats[2] , stats[6] , stats[-1]"
   ]
  },
  {
   "cell_type": "code",
   "execution_count": 10,
   "id": "95421147",
   "metadata": {},
   "outputs": [],
   "source": [
    "with open(\"Weather2.csv\",'w', newline=\"\") as f:\n",
    "    writer = csv.writer(f)\n",
    "    writer.writerow([\"Temp\",\"Humidity\",\"Visibility\",\"Pressure\"])\n",
    "    temp = soup.find('div', attrs={'class':'temp'}).get_text()\n",
    "    stats = soup.find('div', attrs={'class':'stats'}).get_text().split()\n",
    "    hum = stats[2]\n",
    "    vis = stats[6]\n",
    "    pres = stats[-1]\n",
    "    writer.writerow([temp[:-2],hum[:-1],vis[:-1],pres[:-2]])"
   ]
  },
  {
   "cell_type": "code",
   "execution_count": 11,
   "id": "90514f78",
   "metadata": {},
   "outputs": [],
   "source": [
    "df = pd.read_csv(\"Weather2.csv\")"
   ]
  },
  {
   "cell_type": "code",
   "execution_count": 12,
   "id": "81ff6ec5",
   "metadata": {},
   "outputs": [
    {
     "data": {
      "text/html": [
       "<div>\n",
       "<style scoped>\n",
       "    .dataframe tbody tr th:only-of-type {\n",
       "        vertical-align: middle;\n",
       "    }\n",
       "\n",
       "    .dataframe tbody tr th {\n",
       "        vertical-align: top;\n",
       "    }\n",
       "\n",
       "    .dataframe thead th {\n",
       "        text-align: right;\n",
       "    }\n",
       "</style>\n",
       "<table border=\"1\" class=\"dataframe\">\n",
       "  <thead>\n",
       "    <tr style=\"text-align: right;\">\n",
       "      <th></th>\n",
       "      <th>Temp</th>\n",
       "      <th>Humidity</th>\n",
       "      <th>Visibility</th>\n",
       "      <th>Pressure</th>\n",
       "    </tr>\n",
       "  </thead>\n",
       "  <tbody>\n",
       "    <tr>\n",
       "      <th>0</th>\n",
       "      <td>12</td>\n",
       "      <td>63</td>\n",
       "      <td>10000</td>\n",
       "      <td>1019.0</td>\n",
       "    </tr>\n",
       "  </tbody>\n",
       "</table>\n",
       "</div>"
      ],
      "text/plain": [
       "   Temp  Humidity  Visibility  Pressure\n",
       "0    12        63       10000    1019.0"
      ]
     },
     "execution_count": 12,
     "metadata": {},
     "output_type": "execute_result"
    }
   ],
   "source": [
    "df"
   ]
  },
  {
   "cell_type": "code",
   "execution_count": null,
   "id": "a30c8b0b",
   "metadata": {},
   "outputs": [],
   "source": []
  }
 ],
 "metadata": {
  "kernelspec": {
   "display_name": "Python 3 (ipykernel)",
   "language": "python",
   "name": "python3"
  },
  "language_info": {
   "codemirror_mode": {
    "name": "ipython",
    "version": 3
   },
   "file_extension": ".py",
   "mimetype": "text/x-python",
   "name": "python",
   "nbconvert_exporter": "python",
   "pygments_lexer": "ipython3",
   "version": "3.9.7"
  }
 },
 "nbformat": 4,
 "nbformat_minor": 5
}
