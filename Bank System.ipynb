{
 "cells": [
  {
   "cell_type": "markdown",
   "metadata": {},
   "source": [
    "# Banking System using OOP \n",
    "## - parent Class: User \n",
    "### Holds details about an user \n",
    "### has a function to show user details \n",
    "\n",
    "## - Child Class: Bank \n",
    "### Stores details about the accound balance\n",
    "### Stores details about the amount \n",
    "### Allows for deposits, withdraw, view_balance \n"
   ]
  },
  {
   "cell_type": "code",
   "execution_count": 1,
   "metadata": {},
   "outputs": [],
   "source": [
    "#Parent Class \n",
    "class User ():\n",
    "    def __init__(self, name,age,gender):\n",
    "        self.name = name \n",
    "        self.age= age \n",
    "        self.gender=gender \n",
    "    \n",
    "    def show_details(self):\n",
    "        print ('User Details') \n",
    "        print (\"Name:\", self.name) \n",
    "        print (\"Age: \", self.age) \n",
    "        print (\"Gender: \" , self.gender)\n",
    "\n",
    "        \n",
    "user_1 = User('Mohamed',25,'Male')\n"
   ]
  },
  {
   "cell_type": "code",
   "execution_count": 2,
   "metadata": {},
   "outputs": [
    {
     "name": "stdout",
     "output_type": "stream",
     "text": [
      "User Details\n",
      "Name: Mohamed\n",
      "Age:  25\n",
      "Gender:  Male\n",
      "Account Balance has been updated: $ 100\n",
      "Operation Done succsessfuly\n",
      "Balance has been updated  0\n"
     ]
    }
   ],
   "source": [
    "\n",
    "## - Child Class: Bank \n",
    "### Stores details about the accound balance\n",
    "### Stores details about the amount \n",
    "### Allows for deposits, withdraw, view_balance \n",
    "class Bank(User):\n",
    "    def __init__(self,name,age,gender):\n",
    "        User.__init__(self,name,age,gender)\n",
    "        self.balance=0 \n",
    "    \n",
    "    def deposit(self,amount):\n",
    "        self.amount = amount \n",
    "        self.balance = self.balance + self.amount \n",
    "        print (\"Account Balance has been updated: $\" , self.balance)\n",
    "    \n",
    "    def withdraw (self,amount):\n",
    "        self.amount = amount \n",
    "        if self.balance < amount :\n",
    "            print (\"Insufficient Funds: Balance Availble = \" , self.balance)\n",
    "        else:\n",
    "            self.balance -= self.amount \n",
    "            print (\"Operation Done succsessfuly\")\n",
    "            print (\"Balance has been updated \" , self.balance)\n",
    "        \n",
    "    def  view_balance (self):\n",
    "        print (\"Your current Balance now is \" , self.balance)\n",
    "     \n",
    "        \n",
    "user_2 = Bank ('Mohamed',25,'Male')\n",
    "user_2.show_details()\n",
    "user_2.deposit(100) \n",
    "user_2.withdraw(100)"
   ]
  },
  {
   "cell_type": "code",
   "execution_count": 3,
   "metadata": {},
   "outputs": [],
   "source": [
    "def askuser():\n",
    "    while True:\n",
    "        name = input(\"Name: \")\n",
    "        if name.isalpha():\n",
    "            print(name)\n",
    "            break\n",
    "        else:\n",
    "            print(\"Please enter your name...\")\n",
    "    print('your name is :',(name)) \n",
    "    while True :\n",
    "        try:\n",
    "            age = int(input('enter your age : '))\n",
    "            print ('your age is :',(age))\n",
    "            break\n",
    "        except:\n",
    "            print('error')    \n",
    "    while True:\n",
    "        gender = input('enter your gender :')\n",
    "        list_of_genders = ['male','female']\n",
    "        if gender in  list_of_genders:\n",
    "            print('you are {}.'.format(gender))\n",
    "            break\n",
    "        else :\n",
    "            print('what is your gender!!!')\n",
    "    obg = Bank(name,age,gender)\n",
    "    print (f\"your name is : {name} , your age is : {age} , your gender is {gender}\")\n",
    "    print (\"Bank System!\\n__________________\\n account created succfully!\\n 1\\ show account details\\n 2\\ show account balance\\n 3\\ withdrw\\n 4\\ deposit\\n 0\\ exit the system\\n\" )\n",
    "    while True:\n",
    "        user_input = int(input('enter your selection :'))\n",
    "        try:\n",
    "            if int(user_input) == 1:\n",
    "                print (obg.show_details())\n",
    "            elif int(user_input) == 2 :\n",
    "                print (obg.view_balance())\n",
    "            elif int(user_input) == 3:\n",
    "                amount = int(input('your amount is :'))\n",
    "                print (obg.withdraw(amount))\n",
    "            elif int(user_input)== 4:\n",
    "                amount = int(input('your amount is :'))\n",
    "                print (obg.deposit(amount))\n",
    "            elif int(user_input) == 0:\n",
    "                print ('thank you for using the system!')\n",
    "                break\n",
    "            else :\n",
    "                print ('error input') \n",
    "        except :\n",
    "            print ('error in the system')\n",
    "            \n",
    "            \n",
    "        \n",
    "\n",
    "\n"
   ]
  },
  {
   "cell_type": "code",
   "execution_count": null,
   "metadata": {},
   "outputs": [
    {
     "name": "stdout",
     "output_type": "stream",
     "text": [
      "Name: 222222222\n",
      "Please enter your name...\n",
      "Name: yousssef\n",
      "yousssef\n",
      "your name is : yousssef\n"
     ]
    }
   ],
   "source": [
    "askuser()"
   ]
  },
  {
   "cell_type": "code",
   "execution_count": null,
   "metadata": {},
   "outputs": [],
   "source": []
  }
 ],
 "metadata": {
  "kernelspec": {
   "display_name": "Python 3 (ipykernel)",
   "language": "python",
   "name": "python3"
  },
  "language_info": {
   "codemirror_mode": {
    "name": "ipython",
    "version": 3
   },
   "file_extension": ".py",
   "mimetype": "text/x-python",
   "name": "python",
   "nbconvert_exporter": "python",
   "pygments_lexer": "ipython3",
   "version": "3.9.7"
  }
 },
 "nbformat": 4,
 "nbformat_minor": 2
}
